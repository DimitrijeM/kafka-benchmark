{
 "cells": [
  {
   "cell_type": "markdown",
   "metadata": {},
   "source": [
    "# Report: Implementation of Kafka Broker in Python\n",
    "\n",
    "*Author: Dimitrije Milenković*\n",
    "<br> dimitrijemilenkovic.dm@gmail.com"
   ]
  },
  {
   "cell_type": "markdown",
   "metadata": {},
   "source": [
    "In short, the task is described with the following goal:\n",
    "\n",
    "*\"The goal of the challenge is to have a tool that is able to stream data from Kafka and count unique things within this data. The simplest use case is that we want to calculate unique users per minute, day, week, month, year. For a very first version, business wants us to provide just the unique users per minute.\"*\n",
    "\n",
    "It is recommended that I use my favorite programming language, solve the task, and write a report on why certain approach was choosen and what performance was gained.\n",
    "\n",
    "My decision is to use Python. Although this is not the fastest alternative, I will give an overview of how this task can best be solved in this environment. "
   ]
  },
  {
   "cell_type": "markdown",
   "metadata": {},
   "source": [
    "## Kafka Clients Benchmark"
   ]
  },
  {
   "cell_type": "markdown",
   "metadata": {},
   "source": [
    "At the very beginning, it is necessary to decide which Kafka client for Python is optimal for this problem. Our main metric is speed, so we'll choose a fastest client. For this need, three most popular clients were implemented and their performance measured. \n",
    "\n",
    "\n",
    "Before that we will implement a simple function of counting unique users per minute. Please note that in this section we focus on clients benchmarking and use the same counting mechanism. After selecting the best client, we will compare different counting mechanisms, data structures, and object serializer. At this point we assume that it is quite good to use numpy arrays."
   ]
  },
  {
   "cell_type": "code",
   "execution_count": 1,
   "metadata": {},
   "outputs": [],
   "source": [
    "import json\n",
    "import time\n",
    "import random\n",
    "import string\n",
    "import os\n",
    "import numpy as np\n",
    "\n",
    "import pandas as pd\n",
    "import matplotlib.pyplot as plt\n",
    "%matplotlib inline\n",
    "\n",
    "import cProfile\n",
    "import timeit\n",
    "\n",
    "import ujson\n",
    "import rapidjson\n",
    "import ujson\n",
    "\n",
    "from kafka import KafkaConsumer, KafkaProducer\n",
    "from pykafka import KafkaClient\n",
    "import confluent_kafka\n",
    "\n",
    "GROUP_ID = 'kafka-clients-benchmark'\n",
    "BOOTSTRAP_SERVERS = 'localhost:9092'"
   ]
  },
  {
   "cell_type": "code",
   "execution_count": 2,
   "metadata": {},
   "outputs": [],
   "source": [
    "def count_unique_users_per_minute(messages: list):\n",
    "    if len(messages) == 0:\n",
    "        return {}, 0\n",
    "    messages = np.array(messages)\n",
    "    start = time.time()\n",
    "    messages[:, 1] = messages[:, 1].astype('datetime64[m]')\n",
    "    minutes = np.unique(messages[:, 1])\n",
    "    num_of_unique_users = {}\n",
    "    for minute in minutes:\n",
    "        msgs_in_minute = messages[messages[:,1] == minute]\n",
    "        num_of_unique_users[minute] = np.unique(msgs_in_minute[:, 0]).shape[0]\n",
    "    timing = time.time() - start\n",
    "    print(timing)\n",
    "    return num_of_unique_users, timing "
   ]
  },
  {
   "cell_type": "markdown",
   "metadata": {},
   "source": [
    "### Kafka Python Client"
   ]
  },
  {
   "cell_type": "code",
   "execution_count": 4,
   "metadata": {},
   "outputs": [],
   "source": [
    "def kafka_python_performance(input_topic_name, output_topic_name):\n",
    "    group_id = ''.join(random.choices(string.ascii_uppercase + string.digits, k=10))\n",
    "    start = time.time()\n",
    "    messages = []\n",
    "\n",
    "    consumer = KafkaConsumer(\n",
    "        input_topic_name,\n",
    "        bootstrap_servers=BOOTSTRAP_SERVERS,\n",
    "        auto_offset_reset='earliest',\n",
    "        enable_auto_commit=True,\n",
    "        consumer_timeout_ms=1000,\n",
    "        group_id=group_id,\n",
    "        value_deserializer=lambda x: json.loads(x.decode('utf-8')))\n",
    "\n",
    "    producer = KafkaProducer(\n",
    "        bootstrap_servers=['localhost:9092'],\n",
    "        value_serializer=lambda x: json.dumps(x).encode('utf-8'))\n",
    "\n",
    "    for message in consumer:\n",
    "        msg = [message.value['uid'], np.datetime64(message.value['ts'], 's')]\n",
    "        # print('{} received.'.format(message))\n",
    "        messages.append(msg)\n",
    "    consumer.close()\n",
    "    consumer_timing = time.time() - start\n",
    "\n",
    "    num_of_unique_users = count_unique_users_per_minute(messages)[0]\n",
    "    print(num_of_unique_users)\n",
    "    producer.send(output_topic_name, value=num_of_unique_users)\n",
    "    producer.close()\n",
    "    producer_timing = time.time() - start\n",
    "    \n",
    "    print(len(messages), 'messages have been processed.')\n",
    "    print('Execution time (seconds): ', consumer_timing)\n",
    "    return len(messages), consumer_timing, producer_timing"
   ]
  },
  {
   "cell_type": "code",
   "execution_count": 5,
   "metadata": {},
   "outputs": [
    {
     "name": "stdout",
     "output_type": "stream",
     "text": [
      "1.5231025218963623\n",
      "{'2016-07-11T13:39': 16193, '2016-07-11T13:40': 41130, '2016-07-11T13:41': 47369, '2016-07-11T13:42': 49488, '2016-07-11T13:43': 47863, '2016-07-11T13:44': 40439, '2016-07-11T13:45': 42859, '2016-07-11T13:46': 47312, '2016-07-11T13:47': 48180, '2016-07-11T13:48': 47981, '2016-07-11T13:49': 42194, '2016-07-11T13:50': 45070, '2016-07-11T13:51': 43659, '2016-07-11T13:52': 48611, '2016-07-11T13:53': 42742, '2016-07-11T13:54': 51930, '2016-07-11T13:55': 45471, '2016-07-11T13:56': 138}\n",
      "1000000 messages have been processed.\n",
      "Execution time (seconds):  61.850969552993774\n"
     ]
    }
   ],
   "source": [
    "num_of_messages, consumer_timings, producer_timings = {}, {}, {}\n",
    "num_of_messages['kafka_python'], consumer_timings['kafka_python'], producer_timings[\n",
    "    'kafka_python'] = kafka_python_performance('in', 'out')"
   ]
  },
  {
   "cell_type": "markdown",
   "metadata": {},
   "source": [
    "### Pykafka Client"
   ]
  },
  {
   "cell_type": "code",
   "execution_count": 7,
   "metadata": {},
   "outputs": [],
   "source": [
    "def pykafka_performance(input_topic_name, output_topic_name, use_rdkafka=False):\n",
    "    group_id = ''.join(random.choices(string.ascii_uppercase + string.digits, k=10))\n",
    "    start = time.time()\n",
    "    client = KafkaClient(hosts=BOOTSTRAP_SERVERS)\n",
    "    input_topic = client.topics[input_topic_name]\n",
    "    \n",
    "    consumer = input_topic.get_simple_consumer(use_rdkafka=use_rdkafka, consumer_group=group_id,\n",
    "                                               consumer_timeout_ms=1000)\n",
    "    messages = []\n",
    "    while True:\n",
    "        try:\n",
    "            message = consumer.consume(block=True)\n",
    "            message = json.loads(message.value.decode('utf-8')) \n",
    "        except AttributeError as e:\n",
    "            print('No more messages', e)\n",
    "            break\n",
    "        \n",
    "        msg = [message['uid'], np.datetime64(message['ts'], 's')]\n",
    "        # print('{} received.'.format(message))\n",
    "        messages.append(msg)\n",
    "    consumer.stop()\n",
    "    consumer_timing = time.time() - start\n",
    "    \n",
    "    start = time.time()\n",
    "    num_of_unique_users = count_unique_users_per_minute(messages)[0]\n",
    "    print(num_of_unique_users)\n",
    "    output_topic = client.topics[output_topic_name]\n",
    "    producer = output_topic.get_producer(use_rdkafka=use_rdkafka)\n",
    "    producer.produce(json.dumps(num_of_unique_users).encode('utf-8'))\n",
    "    producer.stop()\n",
    "    producer_timing = time.time() - start\n",
    "\n",
    "    print(len(messages), 'messages have been processed.')\n",
    "    print('Execution time (seconds): ', consumer_timing)\n",
    "    return len(messages), consumer_timing, producer_timing"
   ]
  },
  {
   "cell_type": "code",
   "execution_count": 8,
   "metadata": {
    "scrolled": false
   },
   "outputs": [
    {
     "name": "stdout",
     "output_type": "stream",
     "text": [
      "No more messages 'NoneType' object has no attribute 'value'\n",
      "1.2501156330108643\n",
      "{'2016-07-11T13:39': 16193, '2016-07-11T13:40': 41130, '2016-07-11T13:41': 47369, '2016-07-11T13:42': 49488, '2016-07-11T13:43': 47863, '2016-07-11T13:44': 40439, '2016-07-11T13:45': 42859, '2016-07-11T13:46': 47312, '2016-07-11T13:47': 48180, '2016-07-11T13:48': 47981, '2016-07-11T13:49': 42194, '2016-07-11T13:50': 45070, '2016-07-11T13:51': 43659, '2016-07-11T13:52': 48611, '2016-07-11T13:53': 42742, '2016-07-11T13:54': 51930, '2016-07-11T13:55': 45471, '2016-07-11T13:56': 138}\n",
      "1000000 messages have been processed.\n",
      "Execution time (seconds):  63.58131980895996\n"
     ]
    }
   ],
   "source": [
    "num_of_messages['pykafka'], consumer_timings['pykafka'], producer_timings[\n",
    "    'pykafka'] = pykafka_performance('in', 'outkp')"
   ]
  },
  {
   "cell_type": "markdown",
   "metadata": {},
   "source": [
    "### Confluent Kafka Client"
   ]
  },
  {
   "cell_type": "code",
   "execution_count": 10,
   "metadata": {},
   "outputs": [],
   "source": [
    "def confluent_kafka_performance(input_topic_name, output_topic_name):\n",
    "    start = time.time()\n",
    "    messages = []\n",
    "    group_id = ''.join(random.choices(string.ascii_uppercase + string.digits, k=10))\n",
    "\n",
    "    conf_consumer = {\n",
    "        'bootstrap.servers': BOOTSTRAP_SERVERS,\n",
    "        'group.id': group_id,\n",
    "        'queue.buffering.max.messages': 500000,\n",
    "        'queue.buffering.max.ms': 60000,\n",
    "        'session.timeout.ms': 6000,\n",
    "        'batch.num.messages': 100,\n",
    "        'default.topic.config': {\n",
    "            'auto.offset.reset': 'earliest',\n",
    "            'acks': 'all'\n",
    "        }\n",
    "    }\n",
    "    consumer = confluent_kafka.Consumer(**conf_consumer)\n",
    "    consumer.subscribe([input_topic_name])\n",
    "\n",
    "    while True:\n",
    "        message = consumer.poll(timeout=4.0)\n",
    "        if message is None:\n",
    "            print('Message is None', len(messages))\n",
    "            break\n",
    "        if message.error():\n",
    "            print(\"Consumer error: {}\".format(message.error()))\n",
    "            continue\n",
    "\n",
    "        message = json.loads(message.value().decode('utf-8')) \n",
    "        msg = [message['uid'], np.datetime64(message['ts'], 's')]\n",
    "        # print(msg, 'received.')\n",
    "        messages.append(msg)\n",
    "    \n",
    "    consumer.close()\n",
    "    consumer_timing = time.time() - start\n",
    "    \n",
    "\n",
    "    num_of_unique_users = count_unique_users_per_minute(messages)[0]\n",
    "    print(num_of_unique_users)\n",
    "    \n",
    "    start = time.time()\n",
    "    conf_producer = {'bootstrap.servers': BOOTSTRAP_SERVERS}\n",
    "    producer = confluent_kafka.Producer(**conf_producer)\n",
    "    producer.poll(0)\n",
    "    producer.produce(output_topic_name, value=json.dumps(num_of_unique_users).encode('utf-8'))\n",
    "#     producer.flush()\n",
    "    producer_timing = time.time() - start\n",
    "    print(len(messages), 'messages have been processed.')\n",
    "    print('Execution time (seconds): ', consumer_timing)\n",
    "    return len(messages), consumer_timing, producer_timing"
   ]
  },
  {
   "cell_type": "code",
   "execution_count": 11,
   "metadata": {},
   "outputs": [
    {
     "name": "stdout",
     "output_type": "stream",
     "text": [
      "Consumer error: KafkaError{code=_PARTITION_EOF,val=-191,str=\"Broker: No more messages\"}\n",
      "Message is None 1000000\n",
      "1.232053518295288\n",
      "{'2016-07-11T13:39': 16193, '2016-07-11T13:40': 41130, '2016-07-11T13:41': 47369, '2016-07-11T13:42': 49488, '2016-07-11T13:43': 47863, '2016-07-11T13:44': 40439, '2016-07-11T13:45': 42859, '2016-07-11T13:46': 47312, '2016-07-11T13:47': 48180, '2016-07-11T13:48': 47981, '2016-07-11T13:49': 42194, '2016-07-11T13:50': 45070, '2016-07-11T13:51': 43659, '2016-07-11T13:52': 48611, '2016-07-11T13:53': 42742, '2016-07-11T13:54': 51930, '2016-07-11T13:55': 45471, '2016-07-11T13:56': 138}\n",
      "1000000 messages have been processed.\n",
      "Execution time (seconds):  36.256314277648926\n"
     ]
    }
   ],
   "source": [
    "num_of_messages['confluent_kafka'], consumer_timings['confluent_kafka'], producer_timings[\n",
    "    'confluent_kafka'] = confluent_kafka_performance('in', 'outkp')"
   ]
  },
  {
   "cell_type": "markdown",
   "metadata": {},
   "source": [
    "### Client's Performance and Decision"
   ]
  },
  {
   "cell_type": "markdown",
   "metadata": {},
   "source": [
    "We mentioned that the most important performance measure is speed, so we look at it as raw time, but also as the number of processed frames (messages) per second and the total amount of data processed per second. Also, besides the time consuming messages, time needed for pushing the message is also important although we do it less often."
   ]
  },
  {
   "cell_type": "code",
   "execution_count": 12,
   "metadata": {},
   "outputs": [
    {
     "data": {
      "text/html": [
       "<div>\n",
       "<style scoped>\n",
       "    .dataframe tbody tr th:only-of-type {\n",
       "        vertical-align: middle;\n",
       "    }\n",
       "\n",
       "    .dataframe tbody tr th {\n",
       "        vertical-align: top;\n",
       "    }\n",
       "\n",
       "    .dataframe thead th {\n",
       "        text-align: right;\n",
       "    }\n",
       "</style>\n",
       "<table border=\"1\" class=\"dataframe\">\n",
       "  <thead>\n",
       "    <tr style=\"text-align: right;\">\n",
       "      <th></th>\n",
       "      <th>time_in_seconds</th>\n",
       "      <th>consumed_Bs/s</th>\n",
       "      <th>consumed_Frames/s</th>\n",
       "      <th>producer_time</th>\n",
       "    </tr>\n",
       "  </thead>\n",
       "  <tbody>\n",
       "    <tr>\n",
       "      <th>confluent_kafka</th>\n",
       "      <td>36.256314</td>\n",
       "      <td>5.737910e+07</td>\n",
       "      <td>27581.402576</td>\n",
       "      <td>0.000240</td>\n",
       "    </tr>\n",
       "    <tr>\n",
       "      <th>kafka_python</th>\n",
       "      <td>61.850970</td>\n",
       "      <td>3.363495e+07</td>\n",
       "      <td>16167.895301</td>\n",
       "      <td>64.242454</td>\n",
       "    </tr>\n",
       "    <tr>\n",
       "      <th>pykafka</th>\n",
       "      <td>63.581320</td>\n",
       "      <td>3.271959e+07</td>\n",
       "      <td>15727.889937</td>\n",
       "      <td>12.014478</td>\n",
       "    </tr>\n",
       "  </tbody>\n",
       "</table>\n",
       "</div>"
      ],
      "text/plain": [
       "                 time_in_seconds  consumed_Bs/s  consumed_Frames/s  \\\n",
       "confluent_kafka        36.256314   5.737910e+07       27581.402576   \n",
       "kafka_python           61.850970   3.363495e+07       16167.895301   \n",
       "pykafka                63.581320   3.271959e+07       15727.889937   \n",
       "\n",
       "                 producer_time  \n",
       "confluent_kafka       0.000240  \n",
       "kafka_python         64.242454  \n",
       "pykafka              12.014478  "
      ]
     },
     "execution_count": 12,
     "metadata": {},
     "output_type": "execute_result"
    }
   ],
   "source": [
    "path = '/home/dimi/Projects/kafka-benchmark/'\n",
    "file_path = path + 'data/stream.jsonl'\n",
    "stats_file_path = path + 'data/clients_comparison_stats.csv'\n",
    "fig_path = path + 'figs/comparison_graph.pdf'\n",
    "\n",
    "msg_size = os.path.getsize(file_path)\n",
    "\n",
    "df = pd.DataFrame.from_dict(consumer_timings, orient='index').rename(columns={0: 'time_in_seconds'})\n",
    "df['consumed_Bs/s'] = msg_size / df.time_in_seconds \n",
    "df['consumed_Frames/s'] = list(num_of_messages.values()) / df.time_in_seconds\n",
    "df['producer_time'] = list(producer_timings.values())\n",
    "df.sort_values(by='time_in_seconds', inplace=True)\n",
    "df"
   ]
  },
  {
   "cell_type": "code",
   "execution_count": 25,
   "metadata": {},
   "outputs": [
    {
     "name": "stdout",
     "output_type": "stream",
     "text": [
      "Results was saved in:\n",
      "- data:  /home/dimi/Projects/kafka-benchmark/data/clients_comparison_stats.csv\n",
      "- graph:  /home/dimi/Projects/kafka-benchmark/figs/comparison_graph.pdf\n"
     ]
    },
    {
     "data": {
      "image/png": "[encoded data removed]",
      "text/plain": [
       "<Figure size 720x576 with 4 Axes>"
      ]
     },
     "metadata": {
      "needs_background": "light"
     },
     "output_type": "display_data"
    }
   ],
   "source": [
    "df.plot(kind='bar', subplots=True, figsize=(10, 8), title=\"Comparison\")\n",
    "\n",
    "df.to_csv(stats_file_path)\n",
    "plt.savefig(fig_path)\n",
    "print('Results was saved in:')\n",
    "print('- data: ', stats_file_path)\n",
    "print('- graph: ', fig_path)"
   ]
  },
  {
   "cell_type": "markdown",
   "metadata": {},
   "source": [
    "As we can see, the best client is the Confluent Kafka Client, so we will choose it. \n",
    "\n",
    "The next step will be to determine the bottlenecks of our functions and optimize these parts. Within this, the optimal data structure for the messages will be selected."
   ]
  },
  {
   "cell_type": "markdown",
   "metadata": {},
   "source": [
    "### Performance  Measurement and Bottlenecks Identification"
   ]
  },
  {
   "cell_type": "markdown",
   "metadata": {},
   "source": [
    "In this section we will concentrate only on `confluent_kafka_performance` function, we measure its performance, try to determine which parts of it are the slowest and speed them up."
   ]
  },
  {
   "cell_type": "code",
   "execution_count": 27,
   "metadata": {
    "scrolled": false
   },
   "outputs": [
    {
     "name": "stdout",
     "output_type": "stream",
     "text": [
      "Consumer error: KafkaError{code=_PARTITION_EOF,val=-191,str=\"Broker: No more messages\"}\n",
      "Message is None 1000000\n",
      "1.3167636394500732\n",
      "{'2016-07-11T13:39': 16193, '2016-07-11T13:40': 41130, '2016-07-11T13:41': 47369, '2016-07-11T13:42': 49488, '2016-07-11T13:43': 47863, '2016-07-11T13:44': 40439, '2016-07-11T13:45': 42859, '2016-07-11T13:46': 47312, '2016-07-11T13:47': 48180, '2016-07-11T13:48': 47981, '2016-07-11T13:49': 42194, '2016-07-11T13:50': 45070, '2016-07-11T13:51': 43659, '2016-07-11T13:52': 48611, '2016-07-11T13:53': 42742, '2016-07-11T13:54': 51930, '2016-07-11T13:55': 45471, '2016-07-11T13:56': 138}\n",
      "1000000 messages have been processed.\n",
      "Execution time (seconds):  40.7210168838501\n",
      "         15000520 function calls in 43.147 seconds\n",
      "\n",
      "   Ordered by: standard name\n",
      "\n",
      "   ncalls  tottime  percall  cumtime  percall filename:lineno(function)\n",
      "        1    0.593    0.593    2.219    2.219 <ipython-input-2-67194e63a97a>:1(count_unique_users_per_minute)\n",
      "        1    3.320    3.320   42.946   42.946 <ipython-input-26-2734699f6f56>:1(confluent_kafka_performance)\n",
      "        1    0.201    0.201   43.147   43.147 <string>:1(<module>)\n",
      "        1    0.000    0.000    0.000    0.000 __init__.py:183(dumps)\n",
      "  1000000    0.914    0.000   29.224    0.000 __init__.py:302(loads)\n",
      "       19    0.000    0.000    0.000    0.000 arraysetops.py:138(_unpack_tuple)\n",
      "       19    0.003    0.000    0.488    0.026 arraysetops.py:151(unique)\n",
      "       19    0.044    0.002    0.485    0.026 arraysetops.py:299(_unique1d)\n",
      "  1000000    1.239    0.000   27.990    0.000 decoder.py:334(decode)\n",
      "  1000000   25.478    0.000   25.478    0.000 decoder.py:345(raw_decode)\n",
      "        1    0.000    0.000    0.000    0.000 encoder.py:182(encode)\n",
      "        1    0.000    0.000    0.000    0.000 encoder.py:204(iterencode)\n",
      "       21    0.000    0.000    0.001    0.000 iostream.py:195(schedule)\n",
      "       18    0.000    0.000    0.000    0.000 iostream.py:307(_is_master_process)\n",
      "       18    0.000    0.000    0.000    0.000 iostream.py:320(_schedule_flush)\n",
      "       18    0.000    0.000    0.001    0.000 iostream.py:382(write)\n",
      "       21    0.000    0.000    0.000    0.000 iostream.py:93(_event_pipe)\n",
      "       38    0.000    0.000    0.000    0.000 numeric.py:541(asanyarray)\n",
      "        1    0.000    0.000    0.000    0.000 random.py:343(choices)\n",
      "        1    0.000    0.000    0.000    0.000 random.py:355(<listcomp>)\n",
      "       21    0.000    0.000    0.000    0.000 socket.py:337(send)\n",
      "       21    0.000    0.000    0.000    0.000 threading.py:1062(_wait_for_tstate_lock)\n",
      "       21    0.000    0.000    0.000    0.000 threading.py:1104(is_alive)\n",
      "       21    0.000    0.000    0.000    0.000 threading.py:506(is_set)\n",
      "        1    0.000    0.000   43.147   43.147 {built-in method builtins.exec}\n",
      "  1000020    0.158    0.000    0.158    0.000 {built-in method builtins.isinstance}\n",
      "  1000024    0.109    0.000    0.109    0.000 {built-in method builtins.len}\n",
      "        6    0.000    0.000    0.001    0.000 {built-in method builtins.print}\n",
      "       39    0.902    0.023    0.902    0.023 {built-in method numpy.array}\n",
      "       19    0.000    0.000    0.000    0.000 {built-in method numpy.empty}\n",
      "       18    0.000    0.000    0.000    0.000 {built-in method posix.getpid}\n",
      "        6    0.000    0.000    0.000    0.000 {built-in method time.time}\n",
      "       21    0.000    0.000    0.000    0.000 {method 'acquire' of '_thread.lock' objects}\n",
      "       21    0.000    0.000    0.000    0.000 {method 'append' of 'collections.deque' objects}\n",
      "  1000000    0.107    0.000    0.107    0.000 {method 'append' of 'list' objects}\n",
      "        1    0.236    0.236    0.236    0.236 {method 'astype' of 'numpy.ndarray' objects}\n",
      "        1    0.102    0.102    0.102    0.102 {method 'close' of 'cimpl.Consumer' objects}\n",
      "  1000000    1.884    0.000    1.884    0.000 {method 'decode' of 'bytes' objects}\n",
      "        1    0.000    0.000    0.000    0.000 {method 'disable' of '_lsprof.Profiler' objects}\n",
      "        1    0.000    0.000    0.000    0.000 {method 'encode' of 'str' objects}\n",
      "  2000000    0.236    0.000    0.236    0.000 {method 'end' of '_sre.SRE_Match' objects}\n",
      "  1000002    0.087    0.000    0.087    0.000 {method 'error' of 'cimpl.Message' objects}\n",
      "       19    0.051    0.003    0.051    0.003 {method 'flatten' of 'numpy.ndarray' objects}\n",
      "        1    0.000    0.000    0.000    0.000 {method 'format' of 'str' objects}\n",
      "        2    0.000    0.000    0.000    0.000 {method 'join' of 'str' objects}\n",
      "  2000000    0.928    0.000    0.928    0.000 {method 'match' of '_sre.SRE_Pattern' objects}\n",
      "  1000002    5.922    0.000    5.922    0.000 {method 'poll' of 'cimpl.Consumer' objects}\n",
      "        1    0.000    0.000    0.000    0.000 {method 'poll' of 'cimpl.Producer' objects}\n",
      "        1    0.000    0.000    0.000    0.000 {method 'produce' of 'cimpl.Producer' objects}\n",
      "       10    0.000    0.000    0.000    0.000 {method 'random' of '_random.Random' objects}\n",
      "       19    0.390    0.021    0.390    0.021 {method 'sort' of 'numpy.ndarray' objects}\n",
      "  1000000    0.161    0.000    0.161    0.000 {method 'startswith' of 'str' objects}\n",
      "        1    0.000    0.000    0.000    0.000 {method 'subscribe' of 'cimpl.Consumer' objects}\n",
      "  1000000    0.081    0.000    0.081    0.000 {method 'value' of 'cimpl.Message' objects}\n",
      "\n",
      "\n"
     ]
    }
   ],
   "source": [
    "cProfile.run('confluent_kafka_performance(\\'in\\', \\'outkp\\')')"
   ]
  },
  {
   "cell_type": "markdown",
   "metadata": {},
   "source": [
    "From this report it is clear that JSON deserialization is the slowest operation, as we assumed. That is why we will deal with different alternatives for the deserialization of JSON objects in the forthcoming section."
   ]
  },
  {
   "cell_type": "markdown",
   "metadata": {},
   "source": [
    "## Choosing the Optimal JSON Serializer"
   ]
  },
  {
   "cell_type": "markdown",
   "metadata": {},
   "source": [
    "We will try these alternatives for JSON encoders:\n",
    "- json\n",
    "- ujson\n",
    "- rapidjson"
   ]
  },
  {
   "cell_type": "code",
   "execution_count": 13,
   "metadata": {
    "scrolled": true
   },
   "outputs": [
    {
     "name": "stdout",
     "output_type": "stream",
     "text": [
      "Consumer error: KafkaError{code=_PARTITION_EOF,val=-191,str=\"Broker: No more messages\"}\n",
      "Message is None 1000000\n",
      "1.2124454975128174\n",
      "{'2016-07-11T13:39': 16193, '2016-07-11T13:40': 41130, '2016-07-11T13:41': 47369, '2016-07-11T13:42': 49488, '2016-07-11T13:43': 47863, '2016-07-11T13:44': 40439, '2016-07-11T13:45': 42859, '2016-07-11T13:46': 47312, '2016-07-11T13:47': 48180, '2016-07-11T13:48': 47981, '2016-07-11T13:49': 42194, '2016-07-11T13:50': 45070, '2016-07-11T13:51': 43659, '2016-07-11T13:52': 48611, '2016-07-11T13:53': 42742, '2016-07-11T13:54': 51930, '2016-07-11T13:55': 45471, '2016-07-11T13:56': 138}\n",
      "1000000 messages have been processed.\n",
      "Execution time (seconds):  34.89056921005249\n",
      "Consumer error: KafkaError{code=_PARTITION_EOF,val=-191,str=\"Broker: No more messages\"}\n",
      "Message is None 1000000\n",
      "1.2861905097961426\n",
      "{'2016-07-11T13:39': 16193, '2016-07-11T13:40': 41130, '2016-07-11T13:41': 47369, '2016-07-11T13:42': 49488, '2016-07-11T13:43': 47863, '2016-07-11T13:44': 40439, '2016-07-11T13:45': 42859, '2016-07-11T13:46': 47312, '2016-07-11T13:47': 48180, '2016-07-11T13:48': 47981, '2016-07-11T13:49': 42194, '2016-07-11T13:50': 45070, '2016-07-11T13:51': 43659, '2016-07-11T13:52': 48611, '2016-07-11T13:53': 42742, '2016-07-11T13:54': 51930, '2016-07-11T13:55': 45471, '2016-07-11T13:56': 138}\n",
      "1000000 messages have been processed.\n",
      "Execution time (seconds):  35.07908606529236\n",
      "Consumer error: KafkaError{code=_PARTITION_EOF,val=-191,str=\"Broker: No more messages\"}\n",
      "Message is None 1000000\n",
      "1.4021291732788086\n",
      "{'2016-07-11T13:39': 16193, '2016-07-11T13:40': 41130, '2016-07-11T13:41': 47369, '2016-07-11T13:42': 49488, '2016-07-11T13:43': 47863, '2016-07-11T13:44': 40439, '2016-07-11T13:45': 42859, '2016-07-11T13:46': 47312, '2016-07-11T13:47': 48180, '2016-07-11T13:48': 47981, '2016-07-11T13:49': 42194, '2016-07-11T13:50': 45070, '2016-07-11T13:51': 43659, '2016-07-11T13:52': 48611, '2016-07-11T13:53': 42742, '2016-07-11T13:54': 51930, '2016-07-11T13:55': 45471, '2016-07-11T13:56': 138}\n",
      "1000000 messages have been processed.\n",
      "Execution time (seconds):  35.32288837432861\n"
     ]
    }
   ],
   "source": [
    "setup = \"from __main__ import confluent_kafka_performance\"\n",
    "json_timings = {}\n",
    "json_timings['json'] = timeit.timeit('confluent_kafka_performance(\\'in\\', \\'outkp\\')', setup=setup, number=3) / 3"
   ]
  },
  {
   "cell_type": "code",
   "execution_count": 14,
   "metadata": {
    "scrolled": true
   },
   "outputs": [
    {
     "name": "stdout",
     "output_type": "stream",
     "text": [
      "Consumer error: KafkaError{code=_PARTITION_EOF,val=-191,str=\"Broker: No more messages\"}\n",
      "Message is None 1000000\n",
      "1.1873900890350342\n",
      "{'2016-07-11T13:39': 16193, '2016-07-11T13:40': 41130, '2016-07-11T13:41': 47369, '2016-07-11T13:42': 49488, '2016-07-11T13:43': 47863, '2016-07-11T13:44': 40439, '2016-07-11T13:45': 42859, '2016-07-11T13:46': 47312, '2016-07-11T13:47': 48180, '2016-07-11T13:48': 47981, '2016-07-11T13:49': 42194, '2016-07-11T13:50': 45070, '2016-07-11T13:51': 43659, '2016-07-11T13:52': 48611, '2016-07-11T13:53': 42742, '2016-07-11T13:54': 51930, '2016-07-11T13:55': 45471, '2016-07-11T13:56': 138}\n",
      "1000000 messages have been processed.\n",
      "Execution time (seconds):  21.700391054153442\n",
      "Consumer error: KafkaError{code=_PARTITION_EOF,val=-191,str=\"Broker: No more messages\"}\n",
      "Message is None 1000000\n",
      "1.2064800262451172\n",
      "{'2016-07-11T13:39': 16193, '2016-07-11T13:40': 41130, '2016-07-11T13:41': 47369, '2016-07-11T13:42': 49488, '2016-07-11T13:43': 47863, '2016-07-11T13:44': 40439, '2016-07-11T13:45': 42859, '2016-07-11T13:46': 47312, '2016-07-11T13:47': 48180, '2016-07-11T13:48': 47981, '2016-07-11T13:49': 42194, '2016-07-11T13:50': 45070, '2016-07-11T13:51': 43659, '2016-07-11T13:52': 48611, '2016-07-11T13:53': 42742, '2016-07-11T13:54': 51930, '2016-07-11T13:55': 45471, '2016-07-11T13:56': 138}\n",
      "1000000 messages have been processed.\n",
      "Execution time (seconds):  21.309716939926147\n",
      "Consumer error: KafkaError{code=_PARTITION_EOF,val=-191,str=\"Broker: No more messages\"}\n",
      "Message is None 1000000\n",
      "1.216299057006836\n",
      "{'2016-07-11T13:39': 16193, '2016-07-11T13:40': 41130, '2016-07-11T13:41': 47369, '2016-07-11T13:42': 49488, '2016-07-11T13:43': 47863, '2016-07-11T13:44': 40439, '2016-07-11T13:45': 42859, '2016-07-11T13:46': 47312, '2016-07-11T13:47': 48180, '2016-07-11T13:48': 47981, '2016-07-11T13:49': 42194, '2016-07-11T13:50': 45070, '2016-07-11T13:51': 43659, '2016-07-11T13:52': 48611, '2016-07-11T13:53': 42742, '2016-07-11T13:54': 51930, '2016-07-11T13:55': 45471, '2016-07-11T13:56': 138}\n",
      "1000000 messages have been processed.\n",
      "Execution time (seconds):  21.316986322402954\n"
     ]
    }
   ],
   "source": [
    "def confluent_kafka_performance(input_topic_name, output_topic_name):\n",
    "    start = time.time()\n",
    "    messages = []\n",
    "    group_id = ''.join(random.choices(string.ascii_uppercase + string.digits, k=10))\n",
    "\n",
    "    conf_consumer = {\n",
    "        'bootstrap.servers': BOOTSTRAP_SERVERS,\n",
    "        'group.id': group_id,\n",
    "        'queue.buffering.max.messages': 500000,\n",
    "        'queue.buffering.max.ms': 60000,\n",
    "        'session.timeout.ms': 6000,\n",
    "        'batch.num.messages': 100,\n",
    "        'default.topic.config': {\n",
    "            'auto.offset.reset': 'earliest',\n",
    "            'acks': 'all'\n",
    "        }\n",
    "    }\n",
    "    consumer = confluent_kafka.Consumer(**conf_consumer)\n",
    "    consumer.subscribe([input_topic_name])\n",
    "\n",
    "    while True:\n",
    "        message = consumer.poll(timeout=4.0)\n",
    "        if message is None:\n",
    "            print('Message is None', len(messages))\n",
    "            break\n",
    "        if message.error():\n",
    "            print(\"Consumer error: {}\".format(message.error()))\n",
    "            continue\n",
    "\n",
    "        message = ujson.loads(message.value().decode('utf-8')) \n",
    "        msg = [message['uid'], np.datetime64(message['ts'], 's')]\n",
    "        # print(msg, 'received.')\n",
    "        messages.append(msg)\n",
    "    \n",
    "    consumer.close()\n",
    "    consumer_timing = time.time() - start\n",
    "    \n",
    "\n",
    "    num_of_unique_users = count_unique_users_per_minute(messages)[0]\n",
    "    print(num_of_unique_users)\n",
    "    \n",
    "    start = time.time()\n",
    "    conf_producer = {'bootstrap.servers': BOOTSTRAP_SERVERS}\n",
    "    producer = confluent_kafka.Producer(**conf_producer)\n",
    "    producer.poll(0)\n",
    "    producer.produce(output_topic_name, value=ujson.dumps(num_of_unique_users).encode('utf-8'))\n",
    "    producer.flush()\n",
    "    producer_timing = time.time() - start\n",
    "    print(len(messages), 'messages have been processed.')\n",
    "    print('Execution time (seconds): ', consumer_timing)\n",
    "    return len(messages), consumer_timing, producer_timing\n",
    "\n",
    "json_timings['ujson'] = timeit.timeit('confluent_kafka_performance(\\'in\\', \\'outkp\\')', setup=setup, number=3) / 3"
   ]
  },
  {
   "cell_type": "code",
   "execution_count": 15,
   "metadata": {
    "scrolled": true
   },
   "outputs": [
    {
     "name": "stdout",
     "output_type": "stream",
     "text": [
      "Consumer error: KafkaError{code=_PARTITION_EOF,val=-191,str=\"Broker: No more messages\"}\n",
      "Message is None 1000000\n",
      "1.219083309173584\n",
      "{'2016-07-11T13:39': 16193, '2016-07-11T13:40': 41130, '2016-07-11T13:41': 47369, '2016-07-11T13:42': 49488, '2016-07-11T13:43': 47863, '2016-07-11T13:44': 40439, '2016-07-11T13:45': 42859, '2016-07-11T13:46': 47312, '2016-07-11T13:47': 48180, '2016-07-11T13:48': 47981, '2016-07-11T13:49': 42194, '2016-07-11T13:50': 45070, '2016-07-11T13:51': 43659, '2016-07-11T13:52': 48611, '2016-07-11T13:53': 42742, '2016-07-11T13:54': 51930, '2016-07-11T13:55': 45471, '2016-07-11T13:56': 138}\n",
      "1000000 messages have been processed.\n",
      "Execution time (seconds):  23.233295917510986\n",
      "Consumer error: KafkaError{code=_PARTITION_EOF,val=-191,str=\"Broker: No more messages\"}\n",
      "Message is None 1000000\n",
      "1.206662654876709\n",
      "{'2016-07-11T13:39': 16193, '2016-07-11T13:40': 41130, '2016-07-11T13:41': 47369, '2016-07-11T13:42': 49488, '2016-07-11T13:43': 47863, '2016-07-11T13:44': 40439, '2016-07-11T13:45': 42859, '2016-07-11T13:46': 47312, '2016-07-11T13:47': 48180, '2016-07-11T13:48': 47981, '2016-07-11T13:49': 42194, '2016-07-11T13:50': 45070, '2016-07-11T13:51': 43659, '2016-07-11T13:52': 48611, '2016-07-11T13:53': 42742, '2016-07-11T13:54': 51930, '2016-07-11T13:55': 45471, '2016-07-11T13:56': 138}\n",
      "1000000 messages have been processed.\n",
      "Execution time (seconds):  23.146374940872192\n",
      "Consumer error: KafkaError{code=_PARTITION_EOF,val=-191,str=\"Broker: No more messages\"}\n",
      "Message is None 1000000\n",
      "1.2026853561401367\n",
      "{'2016-07-11T13:39': 16193, '2016-07-11T13:40': 41130, '2016-07-11T13:41': 47369, '2016-07-11T13:42': 49488, '2016-07-11T13:43': 47863, '2016-07-11T13:44': 40439, '2016-07-11T13:45': 42859, '2016-07-11T13:46': 47312, '2016-07-11T13:47': 48180, '2016-07-11T13:48': 47981, '2016-07-11T13:49': 42194, '2016-07-11T13:50': 45070, '2016-07-11T13:51': 43659, '2016-07-11T13:52': 48611, '2016-07-11T13:53': 42742, '2016-07-11T13:54': 51930, '2016-07-11T13:55': 45471, '2016-07-11T13:56': 138}\n",
      "1000000 messages have been processed.\n",
      "Execution time (seconds):  23.104660511016846\n"
     ]
    }
   ],
   "source": [
    "def confluent_kafka_performance(input_topic_name, output_topic_name):\n",
    "    start = time.time()\n",
    "    messages = []\n",
    "    group_id = ''.join(random.choices(string.ascii_uppercase + string.digits, k=10))\n",
    "\n",
    "    conf_consumer = {\n",
    "        'bootstrap.servers': BOOTSTRAP_SERVERS,\n",
    "        'group.id': group_id,\n",
    "        'queue.buffering.max.messages': 500000,\n",
    "        'queue.buffering.max.ms': 60000,\n",
    "        'session.timeout.ms': 6000,\n",
    "        'batch.num.messages': 100,\n",
    "        'default.topic.config': {\n",
    "            'auto.offset.reset': 'earliest',\n",
    "            'acks': 'all'\n",
    "        }\n",
    "    }\n",
    "    consumer = confluent_kafka.Consumer(**conf_consumer)\n",
    "    consumer.subscribe([input_topic_name])\n",
    "\n",
    "    while True:\n",
    "        message = consumer.poll(timeout=4.0)\n",
    "        if message is None:\n",
    "            print('Message is None', len(messages))\n",
    "            break\n",
    "        if message.error():\n",
    "            print(\"Consumer error: {}\".format(message.error()))\n",
    "            continue\n",
    "\n",
    "        message = rapidjson.loads(message.value().decode('utf-8')) \n",
    "        msg = [message['uid'], np.datetime64(message['ts'], 's')]\n",
    "        # print(msg, 'received.')\n",
    "        messages.append(msg)\n",
    "    \n",
    "    consumer.close()\n",
    "    consumer_timing = time.time() - start\n",
    "    \n",
    "\n",
    "    num_of_unique_users = count_unique_users_per_minute(messages)[0]\n",
    "    print(num_of_unique_users)\n",
    "    \n",
    "    start = time.time()\n",
    "    conf_producer = {'bootstrap.servers': BOOTSTRAP_SERVERS}\n",
    "    producer = confluent_kafka.Producer(**conf_producer)\n",
    "    producer.poll(0)\n",
    "    producer.produce(output_topic_name, value=rapidjson.dumps(num_of_unique_users).encode('utf-8'))\n",
    "    producer.flush()\n",
    "    producer_timing = time.time() - start\n",
    "    print(len(messages), 'messages have been processed.')\n",
    "    print('Execution time (seconds): ', consumer_timing)\n",
    "    return len(messages), consumer_timing, producer_timing\n",
    "\n",
    "\n",
    "json_timings['rapidjson']  = timeit.timeit('confluent_kafka_performance(\\'in\\', \\'outkp\\')',\n",
    "                                           setup=setup, number=3) / 3"
   ]
  },
  {
   "cell_type": "code",
   "execution_count": 18,
   "metadata": {
    "scrolled": false
   },
   "outputs": [
    {
     "data": {
      "text/html": [
       "<div>\n",
       "<style scoped>\n",
       "    .dataframe tbody tr th:only-of-type {\n",
       "        vertical-align: middle;\n",
       "    }\n",
       "\n",
       "    .dataframe tbody tr th {\n",
       "        vertical-align: top;\n",
       "    }\n",
       "\n",
       "    .dataframe thead th {\n",
       "        text-align: right;\n",
       "    }\n",
       "</style>\n",
       "<table border=\"1\" class=\"dataframe\">\n",
       "  <thead>\n",
       "    <tr style=\"text-align: right;\">\n",
       "      <th></th>\n",
       "      <th>time_in_seconds</th>\n",
       "    </tr>\n",
       "  </thead>\n",
       "  <tbody>\n",
       "    <tr>\n",
       "      <th>ujson</th>\n",
       "      <td>24.615031</td>\n",
       "    </tr>\n",
       "    <tr>\n",
       "      <th>rapidjson</th>\n",
       "      <td>26.667731</td>\n",
       "    </tr>\n",
       "    <tr>\n",
       "      <th>json</th>\n",
       "      <td>37.448346</td>\n",
       "    </tr>\n",
       "  </tbody>\n",
       "</table>\n",
       "</div>"
      ],
      "text/plain": [
       "           time_in_seconds\n",
       "ujson            24.615031\n",
       "rapidjson        26.667731\n",
       "json             37.448346"
      ]
     },
     "execution_count": 18,
     "metadata": {},
     "output_type": "execute_result"
    },
    {
     "data": {
      "image/png": "[encoded data removed]",
      "text/plain": [
       "<Figure size 576x288 with 1 Axes>"
      ]
     },
     "metadata": {
      "needs_background": "light"
     },
     "output_type": "display_data"
    }
   ],
   "source": [
    "df_json = pd.DataFrame.from_dict(json_timings, orient='index').rename(columns={0: 'time_in_seconds'})\n",
    "df_json.sort_values(by='time_in_seconds', inplace=True)\n",
    "df_json.plot(kind='bar', subplots=True, figsize=(8,4), title=\"JSON Serializer Comparison\")\n",
    "df_json"
   ]
  },
  {
   "cell_type": "markdown",
   "metadata": {},
   "source": [
    "We noticed that the best results were given by the ujson, so we would use it further."
   ]
  },
  {
   "cell_type": "markdown",
   "metadata": {},
   "source": [
    "### Selecting the Optimal Data Structure"
   ]
  },
  {
   "cell_type": "markdown",
   "metadata": {},
   "source": [
    "Next step can be to optimize data structure in which objects will be appended. As common data structures for saving a list of objects such as messages, we have:\n",
    "- lists\n",
    "- numpy arrays\n",
    "\n",
    "In the beginning, we choose list as a data structure that is more convenient for appending. The reason for this is that np.append() copy all the data in the array every time, but the list grows the capacity by a factor (1.125). The list is fast, but memory usage is larger than the array. Because memory usage is not a primary concern for our case, the list seems to be an optimal structure.\n",
    "\n",
    "On the other hand, lists don't be a good structure for subsetting or perform counting, and it's more appropriate to cast list in numpy array.\n",
    "\n",
    "We don't have to believe in this, we can test our base function and function with numpy arrays. The assumption is that the numpy array will work very slowly, so we will test this for just 20000 messages."
   ]
  },
  {
   "cell_type": "code",
   "execution_count": 21,
   "metadata": {
    "scrolled": true
   },
   "outputs": [
    {
     "name": "stdout",
     "output_type": "stream",
     "text": [
      "0.02117776870727539\n",
      "{'2016-07-11T13:39': 16193, '2016-07-11T13:40': 2233}\n",
      "20000 messages have been processed.\n",
      "Execution time (seconds):  0.509284496307373\n"
     ]
    }
   ],
   "source": [
    "def count_unique_users_per_minute(messages):\n",
    "    messages = np.array(messages)\n",
    "    start = time.time()\n",
    "    messages[:, 1] = messages[:, 1].astype('datetime64[m]')\n",
    "    minutes = np.unique(messages[:, 1])\n",
    "    num_of_unique_users = {}\n",
    "    for minute in minutes:\n",
    "        msgs_in_minute = messages[messages[:,1] == minute]\n",
    "        num_of_unique_users[minute] = np.unique(msgs_in_minute[:, 0]).shape[0]\n",
    "    timing = time.time() - start\n",
    "    print(timing)\n",
    "    return num_of_unique_users, timing \n",
    "\n",
    "def confluent_kafka_performance(input_topic_name, output_topic_name):\n",
    "    start = time.time()\n",
    "    messages = []\n",
    "    group_id = ''.join(random.choices(string.ascii_uppercase + string.digits, k=10))\n",
    "\n",
    "    conf_consumer = {\n",
    "        'bootstrap.servers': BOOTSTRAP_SERVERS,\n",
    "        'group.id': group_id,\n",
    "        'queue.buffering.max.messages': 500000,\n",
    "        'queue.buffering.max.ms': 60000,\n",
    "        'session.timeout.ms': 6000,\n",
    "        'batch.num.messages': 100,\n",
    "        'default.topic.config': {\n",
    "            'auto.offset.reset': 'earliest',\n",
    "            'acks': 'all'\n",
    "        }\n",
    "    }\n",
    "    consumer = confluent_kafka.Consumer(**conf_consumer)\n",
    "    consumer.subscribe([input_topic_name])\n",
    "    c=0\n",
    "    while True and c < 20000:\n",
    "        message = consumer.poll(timeout=4.0)\n",
    "        if message is None:\n",
    "            print('Message is None', len(messages))\n",
    "            break\n",
    "        if message.error():\n",
    "            print(\"Consumer error: {}\".format(message.error()))\n",
    "            continue\n",
    "\n",
    "        message = ujson.loads(message.value().decode('utf-8')) \n",
    "        msg = [message['uid'], np.datetime64(message['ts'], 's')]\n",
    "        # print(msg, 'received.')\n",
    "        messages.append(msg)\n",
    "        c=c+1\n",
    "    \n",
    "    consumer.close()\n",
    "    consumer_timing = time.time() - start\n",
    "    \n",
    "\n",
    "    num_of_unique_users = count_unique_users_per_minute(messages)[0]\n",
    "    print(num_of_unique_users)\n",
    "    \n",
    "    start = time.time()\n",
    "    conf_producer = {'bootstrap.servers': BOOTSTRAP_SERVERS}\n",
    "    producer = confluent_kafka.Producer(**conf_producer)\n",
    "    producer.poll(0)\n",
    "    producer.produce(output_topic_name, value=ujson.dumps(num_of_unique_users).encode('utf-8'))\n",
    "    producer.flush()\n",
    "    producer_timing = time.time() - start\n",
    "    print(len(messages), 'messages have been processed.')\n",
    "    print('Execution time (seconds): ', consumer_timing)\n",
    "    return len(messages), consumer_timing, producer_timing\n",
    "\n",
    "\n",
    "data_structure_comparison = {}\n",
    "setup = \"from __main__ import confluent_kafka_performance\"\n",
    "data_structure_comparison['list'] = timeit.timeit('confluent_kafka_performance(\\'in\\', \\'outkp\\')', \n",
    "                                                   setup=setup, number=1) "
   ]
  },
  {
   "cell_type": "code",
   "execution_count": 22,
   "metadata": {},
   "outputs": [
    {
     "name": "stdout",
     "output_type": "stream",
     "text": [
      "0.048035621643066406\n",
      "{'2016-07-11T13:39': 16193, '2016-07-11T13:40': 2233}\n",
      "20000 messages have been processed.\n",
      "Execution time (seconds):  7.637610912322998\n"
     ]
    }
   ],
   "source": [
    "def count_unique_users_per_minute(messages):\n",
    "    start = time.time()\n",
    "    messages[:, 1] = messages[:, 1].astype('datetime64[m]')\n",
    "    minutes = np.unique(messages[:, 1])\n",
    "    num_of_unique_users = {}\n",
    "    for minute in minutes:\n",
    "        msgs_in_minute = messages[messages[:,1] == minute]\n",
    "        num_of_unique_users[minute] = np.unique(msgs_in_minute[:, 0]).shape[0]\n",
    "    timing = time.time() - start\n",
    "    print(timing)\n",
    "    return num_of_unique_users, timing \n",
    "\n",
    "def confluent_kafka_performance(input_topic_name, output_topic_name):\n",
    "    start = time.time()\n",
    "    messages = np.array([])\n",
    "    group_id = ''.join(random.choices(string.ascii_uppercase + string.digits, k=10))\n",
    "\n",
    "    conf_consumer = {\n",
    "        'bootstrap.servers': BOOTSTRAP_SERVERS,\n",
    "        'group.id': group_id,\n",
    "        'queue.buffering.max.messages': 500000,\n",
    "        'queue.buffering.max.ms': 60000,\n",
    "        'session.timeout.ms': 6000,\n",
    "        'batch.num.messages': 100,\n",
    "        'default.topic.config': {\n",
    "            'auto.offset.reset': 'earliest',\n",
    "            'acks': 'all'\n",
    "        }\n",
    "    }\n",
    "    consumer = confluent_kafka.Consumer(**conf_consumer)\n",
    "    consumer.subscribe([input_topic_name])\n",
    "\n",
    "    c=0\n",
    "    while True and c < 20000:\n",
    "        message = consumer.poll(timeout=4.0)\n",
    "        if message is None:\n",
    "            print('Message is None', len(messages))\n",
    "            break\n",
    "        if message.error():\n",
    "            print(\"Consumer error: {}\".format(message.error()))\n",
    "            continue\n",
    "\n",
    "        message = ujson.loads(message.value().decode('utf-8')) \n",
    "        msg = [message['uid'], np.datetime64(message['ts'], 's')]\n",
    "        \n",
    "        messages = np.append(messages, msg)\n",
    "        c = c+1\n",
    "    messages = np.reshape(messages, (-1, 2))\n",
    "    consumer.close()\n",
    "    consumer_timing = time.time() - start\n",
    "    \n",
    "\n",
    "    num_of_unique_users = count_unique_users_per_minute(messages)[0]\n",
    "    print(num_of_unique_users)\n",
    "    \n",
    "    start = time.time()\n",
    "    conf_producer = {'bootstrap.servers': BOOTSTRAP_SERVERS}\n",
    "    producer = confluent_kafka.Producer(**conf_producer)\n",
    "    producer.poll(0)\n",
    "    producer.produce(output_topic_name, value=ujson.dumps(num_of_unique_users).encode('utf-8'))\n",
    "    producer.flush()\n",
    "    producer_timing = time.time() - start\n",
    "    print(len(messages), 'messages have been processed.')\n",
    "    print('Execution time (seconds): ', consumer_timing)\n",
    "    return len(messages), consumer_timing, producer_timing\n",
    "\n",
    "data_structure_comparison['array'] = timeit.timeit('confluent_kafka_performance(\\'in\\', \\'outkp\\')', \n",
    "                                                   setup=setup, number=1) "
   ]
  },
  {
   "cell_type": "markdown",
   "metadata": {},
   "source": [
    "We have proven our assumption. However, there is another solution. We use appending when we don't know how many messages will be sent at the moment. Though we have historical data and we can assume how many messages will arrive at a certain time interval. For example, if we know that it is 1 million messages per second, we can allocate an array length of 1 million, so we put messages in them every time when a new message arrives. if our assumption is not correct and there are more messages, then we can allocate a longer array. There is only 1 new allocation, not on every message. On the other hand, the problem with this can be that we need to clear out a range of free space when we finish reading messages. That means that we need a logical expression and another allocation. Let's try this and measure performance:"
   ]
  },
  {
   "cell_type": "code",
   "execution_count": 24,
   "metadata": {},
   "outputs": [
    {
     "name": "stderr",
     "output_type": "stream",
     "text": [
      "/home/dimi/anaconda3/lib/python3.6/site-packages/ipykernel_launcher.py:42: DeprecationWarning: elementwise comparison failed; this will raise an error in the future.\n"
     ]
    },
    {
     "name": "stdout",
     "output_type": "stream",
     "text": [
      "0.019622802734375\n",
      "{datetime.datetime(2016, 7, 11, 13, 39): 16193, datetime.datetime(2016, 7, 11, 13, 40): 2233}\n",
      "20000 messages have been processed.\n",
      "Execution time (seconds):  0.5473260879516602\n"
     ]
    }
   ],
   "source": [
    "def confluent_kafka_performance(input_topic_name, output_topic_name, presumed_num_of_messages=10**6):\n",
    "    start = time.time()\n",
    "    messages = np.zeros((presumed_num_of_messages, 2)).astype('object')\n",
    "    array_length = presumed_num_of_messages\n",
    "    group_id = ''.join(random.choices(string.ascii_uppercase + string.digits, k=10))\n",
    "\n",
    "    conf_consumer = {\n",
    "        'bootstrap.servers': BOOTSTRAP_SERVERS,\n",
    "        'group.id': group_id,\n",
    "        'queue.buffering.max.messages': 500000,\n",
    "        'queue.buffering.max.ms': 60000,\n",
    "        'session.timeout.ms': 6000,\n",
    "        'batch.num.messages': 100,\n",
    "        'default.topic.config': {\n",
    "            'auto.offset.reset': 'earliest',\n",
    "            'acks': 'all'\n",
    "        }\n",
    "    }\n",
    "    consumer = confluent_kafka.Consumer(**conf_consumer)\n",
    "    consumer.subscribe([input_topic_name])\n",
    "\n",
    "    counter = 0\n",
    "    while True and counter < 20000:\n",
    "        if counter+1 == messages.shape[0]:\n",
    "            messages = np.vstack([messages, np.zeros((presumed_num_of_messages, 2)).astype('object')])\n",
    "            array_length = messages.shape[0]\n",
    "        message = consumer.poll(timeout=4.0)\n",
    "        if message is None:\n",
    "            print('Message is None', len(messages))\n",
    "            break\n",
    "        if message.error():\n",
    "            print(\"Consumer error: {}\".format(message.error()))\n",
    "            continue\n",
    "\n",
    "        message = ujson.loads(message.value().decode('utf-8')) \n",
    "        messages[counter, :] = [message['uid'], np.datetime64(message['ts'], 's')]\n",
    "        counter = counter + 1\n",
    "    \n",
    "    consumer.close()\n",
    "    consumer_timing = time.time() - start\n",
    "    \n",
    "    messages = messages[np.logical_and(messages[:, 0] != 0, messages[:, 1] != 0)]\n",
    "    num_of_unique_users = count_unique_users_per_minute(messages)[0]\n",
    "    print(num_of_unique_users)\n",
    "    \n",
    "    start = time.time()\n",
    "    conf_producer = {'bootstrap.servers': BOOTSTRAP_SERVERS}\n",
    "    producer = confluent_kafka.Producer(**conf_producer)\n",
    "    producer.poll(0)\n",
    "    producer.produce(output_topic_name, value=ujson.dumps(num_of_unique_users).encode('utf-8'))\n",
    "    producer.flush()\n",
    "    producer_timing = time.time() - start\n",
    "    print(len(messages), 'messages have been processed.')\n",
    "    print('Execution time (seconds): ', consumer_timing)\n",
    "    return len(messages), consumer_timing, producer_timing\n",
    "\n",
    "data_structure_comparison['preallocated_array'] = timeit.timeit('confluent_kafka_performance(\\'in\\', \\'outkp\\')', \n",
    "                                                   setup=setup, number=1) "
   ]
  },
  {
   "cell_type": "markdown",
   "metadata": {},
   "source": [
    "It seems that numpy allocations still cost more than working with lists. We'll show statistics and finally choose lists."
   ]
  },
  {
   "cell_type": "code",
   "execution_count": 25,
   "metadata": {},
   "outputs": [
    {
     "data": {
      "text/html": [
       "<div>\n",
       "<style scoped>\n",
       "    .dataframe tbody tr th:only-of-type {\n",
       "        vertical-align: middle;\n",
       "    }\n",
       "\n",
       "    .dataframe tbody tr th {\n",
       "        vertical-align: top;\n",
       "    }\n",
       "\n",
       "    .dataframe thead th {\n",
       "        text-align: right;\n",
       "    }\n",
       "</style>\n",
       "<table border=\"1\" class=\"dataframe\">\n",
       "  <thead>\n",
       "    <tr style=\"text-align: right;\">\n",
       "      <th></th>\n",
       "      <th>time_in_seconds</th>\n",
       "    </tr>\n",
       "  </thead>\n",
       "  <tbody>\n",
       "    <tr>\n",
       "      <th>list</th>\n",
       "      <td>1.686618</td>\n",
       "    </tr>\n",
       "    <tr>\n",
       "      <th>preallocated_array</th>\n",
       "      <td>1.784019</td>\n",
       "    </tr>\n",
       "    <tr>\n",
       "      <th>array</th>\n",
       "      <td>8.789447</td>\n",
       "    </tr>\n",
       "  </tbody>\n",
       "</table>\n",
       "</div>"
      ],
      "text/plain": [
       "                    time_in_seconds\n",
       "list                       1.686618\n",
       "preallocated_array         1.784019\n",
       "array                      8.789447"
      ]
     },
     "execution_count": 25,
     "metadata": {},
     "output_type": "execute_result"
    },
    {
     "data": {
      "image/png": "[encoded data removed]",
      "text/plain": [
       "<Figure size 432x288 with 1 Axes>"
      ]
     },
     "metadata": {
      "needs_background": "light"
     },
     "output_type": "display_data"
    }
   ],
   "source": [
    "df_datastructures = pd.DataFrame.from_dict(data_structure_comparison, orient='index').rename(columns={0: 'time_in_seconds'})\n",
    "df_datastructures.sort_values(by='time_in_seconds', inplace=True)\n",
    "df_datastructures.plot(kind='bar', subplots=True, figsize=(6, 4), title=\"Data Structure Comparison\")\n",
    "df_datastructures"
   ]
  },
  {
   "cell_type": "markdown",
   "metadata": {},
   "source": [
    "Now that we have chosen the best structure, we will enrich our counting function for counting unique users per minute, day, week, month, year."
   ]
  },
  {
   "cell_type": "markdown",
   "metadata": {},
   "source": [
    "## Counting unique users per different time ranges"
   ]
  },
  {
   "cell_type": "code",
   "execution_count": 2,
   "metadata": {},
   "outputs": [],
   "source": [
    "def count_by_date(messages):\n",
    "    dates = np.unique(messages[:, 1])\n",
    "    num_of_unique_users = {}\n",
    "    for dt in dates:\n",
    "        msgs_in_dt = messages[messages[:,1] == dt]\n",
    "        num_of_unique_users[dt] = np.unique(msgs_in_dt[:, 0]).shape[0]\n",
    "    return num_of_unique_users\n",
    "\n",
    "        \n",
    "def count_unique_users(messages):\n",
    "    if len(messages) == 0:\n",
    "        return {}, 0\n",
    "    messages = np.array(messages)\n",
    "    unique_users = {}\n",
    "    \n",
    "    messages[:, 1] = messages[:, 1].astype('datetime64[m]')\n",
    "    unique_users['per_minute'] = count_by_date(messages)\n",
    "        \n",
    "    messages[:, 1] = messages[:, 1].astype('datetime64[h]')\n",
    "    unique_users['per_hour'] = count_by_date(messages)\n",
    "\n",
    "    messages[:, 1] = messages[:, 1].astype('datetime64[D]')\n",
    "    unique_users['per_day'] = count_by_date(messages)\n",
    "    \n",
    "    messages[:, 1] = messages[:, 1].astype('datetime64[M]')\n",
    "    unique_users['per_month'] = count_by_date(messages)\n",
    "    \n",
    "    messages[:, 1] = messages[:, 1].astype('datetime64[Y]')\n",
    "    unique_users['per_year'] = count_by_date(messages)\n",
    "\n",
    "    return unique_users "
   ]
  },
  {
   "cell_type": "markdown",
   "metadata": {},
   "source": [
    "At the end, we run our code one more time and measure final performances."
   ]
  },
  {
   "cell_type": "code",
   "execution_count": 7,
   "metadata": {},
   "outputs": [
    {
     "name": "stdout",
     "output_type": "stream",
     "text": [
      "Consumer error: KafkaError{code=_PARTITION_EOF,val=-191,str=\"Broker: No more messages\"}\n",
      "Message is None 1000000\n",
      "{'per_minute': {'2016-07-11T13:39': 16193, '2016-07-11T13:40': 41130, '2016-07-11T13:41': 47369, '2016-07-11T13:42': 49488, '2016-07-11T13:43': 47863, '2016-07-11T13:44': 40439, '2016-07-11T13:45': 42859, '2016-07-11T13:46': 47312, '2016-07-11T13:47': 48180, '2016-07-11T13:48': 47981, '2016-07-11T13:49': 42194, '2016-07-11T13:50': 45070, '2016-07-11T13:51': 43659, '2016-07-11T13:52': 48611, '2016-07-11T13:53': 42742, '2016-07-11T13:54': 51930, '2016-07-11T13:55': 45471, '2016-07-11T13:56': 138}, 'per_hour': {'2016-07-11T13': 99993}, 'per_day': {'2016-07-11': 99993}, 'per_month': {'2016-07': 99993}, 'per_year': {'2016': 99993}}\n",
      "         6000458 function calls in 30.081 seconds\n",
      "\n",
      "   Ordered by: standard name\n",
      "\n",
      "   ncalls  tottime  percall  cumtime  percall filename:lineno(function)\n",
      "        5    0.567    0.113    3.053    0.611 <ipython-input-2-c3178f845a38>:1(count_by_date)\n",
      "        1    1.208    1.208    6.094    6.094 <ipython-input-2-c3178f845a38>:10(count_unique_users)\n",
      "        1    2.534    2.534   29.918   29.918 <ipython-input-7-d383966632ae>:1(read_messages_and_count_users)\n",
      "        1    0.162    0.162   30.081   30.081 <string>:1(<module>)\n",
      "       27    0.000    0.000    0.000    0.000 arraysetops.py:138(_unpack_tuple)\n",
      "       27    0.015    0.001    2.486    0.092 arraysetops.py:151(unique)\n",
      "       27    0.155    0.006    2.471    0.092 arraysetops.py:299(_unique1d)\n",
      "       11    0.000    0.000    0.001    0.000 iostream.py:195(schedule)\n",
      "        8    0.000    0.000    0.000    0.000 iostream.py:307(_is_master_process)\n",
      "        8    0.000    0.000    0.000    0.000 iostream.py:320(_schedule_flush)\n",
      "        8    0.000    0.000    0.001    0.000 iostream.py:382(write)\n",
      "       11    0.000    0.000    0.000    0.000 iostream.py:93(_event_pipe)\n",
      "       54    0.000    0.000    0.000    0.000 numeric.py:541(asanyarray)\n",
      "       11    0.001    0.000    0.001    0.000 socket.py:337(send)\n",
      "       11    0.000    0.000    0.000    0.000 threading.py:1062(_wait_for_tstate_lock)\n",
      "       11    0.000    0.000    0.000    0.000 threading.py:1104(is_alive)\n",
      "       11    0.000    0.000    0.000    0.000 threading.py:506(is_set)\n",
      "        1    0.000    0.000   30.081   30.081 {built-in method builtins.exec}\n",
      "        8    0.000    0.000    0.000    0.000 {built-in method builtins.isinstance}\n",
      "       30    0.000    0.000    0.000    0.000 {built-in method builtins.len}\n",
      "        3    0.000    0.000    0.001    0.000 {built-in method builtins.print}\n",
      "       55    0.722    0.013    0.722    0.013 {built-in method numpy.array}\n",
      "       27    0.000    0.000    0.000    0.000 {built-in method numpy.empty}\n",
      "        8    0.000    0.000    0.000    0.000 {built-in method posix.getpid}\n",
      "        1    0.000    0.000    0.000    0.000 {built-in method ujson.dumps}\n",
      "  1000000   13.714    0.000   13.714    0.000 {built-in method ujson.loads}\n",
      "       11    0.000    0.000    0.000    0.000 {method 'acquire' of '_thread.lock' objects}\n",
      "       11    0.000    0.000    0.000    0.000 {method 'append' of 'collections.deque' objects}\n",
      "  1000000    0.087    0.000    0.087    0.000 {method 'append' of 'list' objects}\n",
      "        5    1.110    0.222    1.110    0.222 {method 'astype' of 'numpy.ndarray' objects}\n",
      "        1    0.101    0.101    0.101    0.101 {method 'close' of 'cimpl.Consumer' objects}\n",
      "  1000000    1.663    0.000    1.663    0.000 {method 'decode' of 'bytes' objects}\n",
      "        1    0.000    0.000    0.000    0.000 {method 'disable' of '_lsprof.Profiler' objects}\n",
      "        1    0.000    0.000    0.000    0.000 {method 'encode' of 'str' objects}\n",
      "  1000002    0.070    0.000    0.070    0.000 {method 'error' of 'cimpl.Message' objects}\n",
      "       27    0.247    0.009    0.247    0.009 {method 'flatten' of 'numpy.ndarray' objects}\n",
      "        1    0.000    0.000    0.000    0.000 {method 'format' of 'str' objects}\n",
      "  1000002    5.589    0.000    5.589    0.000 {method 'poll' of 'cimpl.Consumer' objects}\n",
      "        1    0.000    0.000    0.000    0.000 {method 'poll' of 'cimpl.Producer' objects}\n",
      "        1    0.000    0.000    0.000    0.000 {method 'produce' of 'cimpl.Producer' objects}\n",
      "       27    2.069    0.077    2.069    0.077 {method 'sort' of 'numpy.ndarray' objects}\n",
      "        1    0.000    0.000    0.000    0.000 {method 'subscribe' of 'cimpl.Consumer' objects}\n",
      "  1000000    0.066    0.000    0.066    0.000 {method 'value' of 'cimpl.Message' objects}\n",
      "\n",
      "\n"
     ]
    }
   ],
   "source": [
    "def read_messages_and_count_users(input_topic_name, output_topic_name, presumed_num_of_messages=10**6):\n",
    "    messages = []\n",
    "    group_id = ''.join(random.choices(string.ascii_uppercase + string.digits, k=10))\n",
    "\n",
    "    conf_consumer = {\n",
    "        'bootstrap.servers': BOOTSTRAP_SERVERS,\n",
    "        'group.id': group_id,\n",
    "        'queue.buffering.max.messages': 500000,\n",
    "        'queue.buffering.max.ms': 60000,\n",
    "        'session.timeout.ms': 6000,\n",
    "        'batch.num.messages': 100,\n",
    "        'default.topic.config': {\n",
    "            'auto.offset.reset': 'earliest',\n",
    "            'acks': 'all'\n",
    "        }\n",
    "    }\n",
    "    consumer = confluent_kafka.Consumer(**conf_consumer)\n",
    "    consumer.subscribe([input_topic_name])\n",
    "\n",
    "    while True:\n",
    "        message = consumer.poll(timeout=4.0)\n",
    "        if message is None:\n",
    "            print('Message is None', len(messages))\n",
    "            break\n",
    "        if message.error():\n",
    "            print(\"Consumer error: {}\".format(message.error()))\n",
    "            continue\n",
    "\n",
    "        message = ujson.loads(message.value().decode('utf-8')) \n",
    "        messages.append([message['uid'], np.datetime64(message['ts'], 's')])\n",
    "    \n",
    "    consumer.close()\n",
    "    \n",
    "    num_of_unique_users = count_unique_users(messages)\n",
    "    \n",
    "    conf_producer = {'bootstrap.servers': BOOTSTRAP_SERVERS}\n",
    "    producer = confluent_kafka.Producer(**conf_producer)\n",
    "    producer.poll(0)\n",
    "    producer.produce(output_topic_name, value=ujson.dumps(num_of_unique_users).encode('utf-8'))\n",
    "    print(num_of_unique_users)\n",
    "    return num_of_unique_users\n",
    "\n",
    "cProfile.run('read_messages_and_count_users(\\'in\\', \\'outkp\\')')"
   ]
  },
  {
   "cell_type": "markdown",
   "metadata": {},
   "source": [
    "We can notice that one of the slowest operations is time extraction from date, and the logical conditions that were written in the count_by_date function. However, these are all statistics that can be calculated from the statistics per minute, so we can get them out of here."
   ]
  },
  {
   "cell_type": "markdown",
   "metadata": {},
   "source": [
    "## Final Solution"
   ]
  },
  {
   "cell_type": "code",
   "execution_count": 11,
   "metadata": {},
   "outputs": [
    {
     "name": "stdout",
     "output_type": "stream",
     "text": [
      "Consumer error: KafkaError{code=_PARTITION_EOF,val=-191,str=\"Broker: No more messages\"}\n",
      "Message is None 1000000\n",
      "{'2016-07-11T13:39': 16193, '2016-07-11T13:40': 41130, '2016-07-11T13:41': 47369, '2016-07-11T13:42': 49488, '2016-07-11T13:43': 47863, '2016-07-11T13:44': 40439, '2016-07-11T13:45': 42859, '2016-07-11T13:46': 47312, '2016-07-11T13:47': 48180, '2016-07-11T13:48': 47981, '2016-07-11T13:49': 42194, '2016-07-11T13:50': 45070, '2016-07-11T13:51': 43659, '2016-07-11T13:52': 48611, '2016-07-11T13:53': 42742, '2016-07-11T13:54': 51930, '2016-07-11T13:55': 45471, '2016-07-11T13:56': 138}\n",
      "         6000373 function calls in 26.212 seconds\n",
      "\n",
      "   Ordered by: standard name\n",
      "\n",
      "   ncalls  tottime  percall  cumtime  percall filename:lineno(function)\n",
      "        1    0.552    0.552    1.944    1.944 <ipython-input-11-4b7839d9904d>:1(count_unique_users_per_minute)\n",
      "        1    2.493    2.493   26.046   26.046 <ipython-input-11-4b7839d9904d>:11(read_messages_and_count_users)\n",
      "        1    0.165    0.165   26.212   26.212 <string>:1(<module>)\n",
      "       19    0.000    0.000    0.000    0.000 arraysetops.py:138(_unpack_tuple)\n",
      "       19    0.002    0.000    0.432    0.023 arraysetops.py:151(unique)\n",
      "       19    0.037    0.002    0.430    0.023 arraysetops.py:299(_unique1d)\n",
      "       11    0.000    0.000    0.000    0.000 iostream.py:195(schedule)\n",
      "        8    0.000    0.000    0.000    0.000 iostream.py:307(_is_master_process)\n",
      "        8    0.000    0.000    0.000    0.000 iostream.py:320(_schedule_flush)\n",
      "        8    0.000    0.000    0.000    0.000 iostream.py:382(write)\n",
      "       11    0.000    0.000    0.000    0.000 iostream.py:93(_event_pipe)\n",
      "       38    0.000    0.000    0.000    0.000 numeric.py:541(asanyarray)\n",
      "        1    0.000    0.000    0.000    0.000 random.py:343(choices)\n",
      "        1    0.000    0.000    0.000    0.000 random.py:355(<listcomp>)\n",
      "       11    0.000    0.000    0.000    0.000 socket.py:337(send)\n",
      "       11    0.000    0.000    0.000    0.000 threading.py:1062(_wait_for_tstate_lock)\n",
      "       11    0.000    0.000    0.000    0.000 threading.py:1104(is_alive)\n",
      "       11    0.000    0.000    0.000    0.000 threading.py:506(is_set)\n",
      "        1    0.000    0.000   26.212   26.212 {built-in method builtins.exec}\n",
      "        8    0.000    0.000    0.000    0.000 {built-in method builtins.isinstance}\n",
      "       21    0.000    0.000    0.000    0.000 {built-in method builtins.len}\n",
      "        3    0.000    0.000    0.000    0.000 {built-in method builtins.print}\n",
      "       39    0.730    0.019    0.730    0.019 {built-in method numpy.array}\n",
      "       19    0.000    0.000    0.000    0.000 {built-in method numpy.empty}\n",
      "        8    0.000    0.000    0.000    0.000 {built-in method posix.getpid}\n",
      "        1    0.000    0.000    0.000    0.000 {built-in method ujson.dumps}\n",
      "  1000000   13.965    0.000   13.965    0.000 {built-in method ujson.loads}\n",
      "       11    0.000    0.000    0.000    0.000 {method 'acquire' of '_thread.lock' objects}\n",
      "       11    0.000    0.000    0.000    0.000 {method 'append' of 'collections.deque' objects}\n",
      "  1000000    0.084    0.000    0.084    0.000 {method 'append' of 'list' objects}\n",
      "        1    0.230    0.230    0.230    0.230 {method 'astype' of 'numpy.ndarray' objects}\n",
      "        1    0.102    0.102    0.102    0.102 {method 'close' of 'cimpl.Consumer' objects}\n",
      "  1000000    1.672    0.000    1.672    0.000 {method 'decode' of 'bytes' objects}\n",
      "        1    0.000    0.000    0.000    0.000 {method 'disable' of '_lsprof.Profiler' objects}\n",
      "        1    0.000    0.000    0.000    0.000 {method 'encode' of 'str' objects}\n",
      "  1000002    0.074    0.000    0.074    0.000 {method 'error' of 'cimpl.Message' objects}\n",
      "       19    0.041    0.002    0.041    0.002 {method 'flatten' of 'numpy.ndarray' objects}\n",
      "        1    0.000    0.000    0.000    0.000 {method 'format' of 'str' objects}\n",
      "        1    0.000    0.000    0.000    0.000 {method 'join' of 'str' objects}\n",
      "  1000002    5.642    0.000    5.642    0.000 {method 'poll' of 'cimpl.Consumer' objects}\n",
      "        1    0.000    0.000    0.000    0.000 {method 'poll' of 'cimpl.Producer' objects}\n",
      "        1    0.000    0.000    0.000    0.000 {method 'produce' of 'cimpl.Producer' objects}\n",
      "       10    0.000    0.000    0.000    0.000 {method 'random' of '_random.Random' objects}\n",
      "       19    0.351    0.018    0.351    0.018 {method 'sort' of 'numpy.ndarray' objects}\n",
      "        1    0.000    0.000    0.000    0.000 {method 'subscribe' of 'cimpl.Consumer' objects}\n",
      "  1000000    0.069    0.000    0.069    0.000 {method 'value' of 'cimpl.Message' objects}\n",
      "\n",
      "\n"
     ]
    }
   ],
   "source": [
    "def count_unique_users_per_minute(messages):\n",
    "    messages = np.array(messages)\n",
    "    messages[:, 1] = messages[:, 1].astype('datetime64[m]')\n",
    "    minutes = np.unique(messages[:, 1])\n",
    "    num_of_unique_users = {}\n",
    "    for minute in minutes:\n",
    "        msgs_in_minute = messages[messages[:,1] == minute]\n",
    "        num_of_unique_users[minute] = np.unique(msgs_in_minute[:, 0]).shape[0]\n",
    "    return num_of_unique_users\n",
    "\n",
    "def read_messages_and_count_users(input_topic_name, output_topic_name, presumed_num_of_messages=10**6):\n",
    "    messages = []\n",
    "    group_id = ''.join(random.choices(string.ascii_uppercase + string.digits, k=10))\n",
    "\n",
    "    conf_consumer = {\n",
    "        'bootstrap.servers': BOOTSTRAP_SERVERS,\n",
    "        'group.id': group_id,\n",
    "        'queue.buffering.max.messages': 500000,\n",
    "        'queue.buffering.max.ms': 60000,\n",
    "        'session.timeout.ms': 6000,\n",
    "        'batch.num.messages': 100,\n",
    "        'default.topic.config': {\n",
    "            'auto.offset.reset': 'earliest',\n",
    "            'acks': 'all'\n",
    "        }\n",
    "    }\n",
    "    consumer = confluent_kafka.Consumer(**conf_consumer)\n",
    "    consumer.subscribe([input_topic_name])\n",
    "\n",
    "    while True:\n",
    "        message = consumer.poll(timeout=4.0)\n",
    "        if message is None:\n",
    "            print('Message is None', len(messages))\n",
    "            break\n",
    "        if message.error():\n",
    "            print(\"Consumer error: {}\".format(message.error()))\n",
    "            continue\n",
    "\n",
    "        message = ujson.loads(message.value().decode('utf-8')) \n",
    "        messages.append([message['uid'], np.datetime64(message['ts'], 's')])\n",
    "    \n",
    "    consumer.close()\n",
    "    \n",
    "    num_of_unique_users = count_unique_users_per_minute(messages)\n",
    "    \n",
    "    conf_producer = {'bootstrap.servers': BOOTSTRAP_SERVERS}\n",
    "    producer = confluent_kafka.Producer(**conf_producer)\n",
    "    producer.poll(0)\n",
    "    producer.produce(output_topic_name, value=ujson.dumps(num_of_unique_users).encode('utf-8'))\n",
    "    print(num_of_unique_users)\n",
    "    return num_of_unique_users\n",
    "\n",
    "cProfile.run('read_messages_and_count_users(\\'in\\', \\'outkp\\')')"
   ]
  },
  {
   "cell_type": "markdown",
   "metadata": {},
   "source": [
    "## Conclusion"
   ]
  },
  {
   "cell_type": "markdown",
   "metadata": {},
   "source": [
    "Problems and bottlenecks in these tasks are independent of the programming language. In this report, I tried to identify bottlenecks, show how we can measure performance and optimize them.\n",
    "\n",
    "This is definitely a prototype solution because Python is not the optimal language for these problems. However, in comparison to initial performance, we managed to improve them 3 times, which indicates that we have been well aware of which parts should be optimized."
   ]
  },
  {
   "cell_type": "code",
   "execution_count": 12,
   "metadata": {},
   "outputs": [
    {
     "name": "stdout",
     "output_type": "stream",
     "text": [
      "Consumer error: KafkaError{code=_PARTITION_EOF,val=-191,str=\"Broker: No more messages\"}\n",
      "Message is None 1000000\n",
      "{'2016-07-11T13:39': 16193, '2016-07-11T13:40': 41130, '2016-07-11T13:41': 47369, '2016-07-11T13:42': 49488, '2016-07-11T13:43': 47863, '2016-07-11T13:44': 40439, '2016-07-11T13:45': 42859, '2016-07-11T13:46': 47312, '2016-07-11T13:47': 48180, '2016-07-11T13:48': 47981, '2016-07-11T13:49': 42194, '2016-07-11T13:50': 45070, '2016-07-11T13:51': 43659, '2016-07-11T13:52': 48611, '2016-07-11T13:53': 42742, '2016-07-11T13:54': 51930, '2016-07-11T13:55': 45471, '2016-07-11T13:56': 138}\n",
      "Consumer error: KafkaError{code=_PARTITION_EOF,val=-191,str=\"Broker: No more messages\"}\n",
      "Message is None 1000000\n",
      "{'2016-07-11T13:39': 16193, '2016-07-11T13:40': 41130, '2016-07-11T13:41': 47369, '2016-07-11T13:42': 49488, '2016-07-11T13:43': 47863, '2016-07-11T13:44': 40439, '2016-07-11T13:45': 42859, '2016-07-11T13:46': 47312, '2016-07-11T13:47': 48180, '2016-07-11T13:48': 47981, '2016-07-11T13:49': 42194, '2016-07-11T13:50': 45070, '2016-07-11T13:51': 43659, '2016-07-11T13:52': 48611, '2016-07-11T13:53': 42742, '2016-07-11T13:54': 51930, '2016-07-11T13:55': 45471, '2016-07-11T13:56': 138}\n",
      "Consumer error: KafkaError{code=_PARTITION_EOF,val=-191,str=\"Broker: No more messages\"}\n",
      "Message is None 1000000\n",
      "{'2016-07-11T13:39': 16193, '2016-07-11T13:40': 41130, '2016-07-11T13:41': 47369, '2016-07-11T13:42': 49488, '2016-07-11T13:43': 47863, '2016-07-11T13:44': 40439, '2016-07-11T13:45': 42859, '2016-07-11T13:46': 47312, '2016-07-11T13:47': 48180, '2016-07-11T13:48': 47981, '2016-07-11T13:49': 42194, '2016-07-11T13:50': 45070, '2016-07-11T13:51': 43659, '2016-07-11T13:52': 48611, '2016-07-11T13:53': 42742, '2016-07-11T13:54': 51930, '2016-07-11T13:55': 45471, '2016-07-11T13:56': 138}\n",
      "Consumer error: KafkaError{code=_PARTITION_EOF,val=-191,str=\"Broker: No more messages\"}\n",
      "Message is None 1000000\n",
      "{'2016-07-11T13:39': 16193, '2016-07-11T13:40': 41130, '2016-07-11T13:41': 47369, '2016-07-11T13:42': 49488, '2016-07-11T13:43': 47863, '2016-07-11T13:44': 40439, '2016-07-11T13:45': 42859, '2016-07-11T13:46': 47312, '2016-07-11T13:47': 48180, '2016-07-11T13:48': 47981, '2016-07-11T13:49': 42194, '2016-07-11T13:50': 45070, '2016-07-11T13:51': 43659, '2016-07-11T13:52': 48611, '2016-07-11T13:53': 42742, '2016-07-11T13:54': 51930, '2016-07-11T13:55': 45471, '2016-07-11T13:56': 138}\n",
      "Consumer error: KafkaError{code=_PARTITION_EOF,val=-191,str=\"Broker: No more messages\"}\n",
      "Message is None 1000000\n",
      "{'2016-07-11T13:39': 16193, '2016-07-11T13:40': 41130, '2016-07-11T13:41': 47369, '2016-07-11T13:42': 49488, '2016-07-11T13:43': 47863, '2016-07-11T13:44': 40439, '2016-07-11T13:45': 42859, '2016-07-11T13:46': 47312, '2016-07-11T13:47': 48180, '2016-07-11T13:48': 47981, '2016-07-11T13:49': 42194, '2016-07-11T13:50': 45070, '2016-07-11T13:51': 43659, '2016-07-11T13:52': 48611, '2016-07-11T13:53': 42742, '2016-07-11T13:54': 51930, '2016-07-11T13:55': 45471, '2016-07-11T13:56': 138}\n",
      "Consumer error: KafkaError{code=_PARTITION_EOF,val=-191,str=\"Broker: No more messages\"}\n",
      "Message is None 1000000\n",
      "{'2016-07-11T13:39': 16193, '2016-07-11T13:40': 41130, '2016-07-11T13:41': 47369, '2016-07-11T13:42': 49488, '2016-07-11T13:43': 47863, '2016-07-11T13:44': 40439, '2016-07-11T13:45': 42859, '2016-07-11T13:46': 47312, '2016-07-11T13:47': 48180, '2016-07-11T13:48': 47981, '2016-07-11T13:49': 42194, '2016-07-11T13:50': 45070, '2016-07-11T13:51': 43659, '2016-07-11T13:52': 48611, '2016-07-11T13:53': 42742, '2016-07-11T13:54': 51930, '2016-07-11T13:55': 45471, '2016-07-11T13:56': 138}\n",
      "Consumer error: KafkaError{code=_PARTITION_EOF,val=-191,str=\"Broker: No more messages\"}\n",
      "Message is None 1000000\n",
      "{'2016-07-11T13:39': 16193, '2016-07-11T13:40': 41130, '2016-07-11T13:41': 47369, '2016-07-11T13:42': 49488, '2016-07-11T13:43': 47863, '2016-07-11T13:44': 40439, '2016-07-11T13:45': 42859, '2016-07-11T13:46': 47312, '2016-07-11T13:47': 48180, '2016-07-11T13:48': 47981, '2016-07-11T13:49': 42194, '2016-07-11T13:50': 45070, '2016-07-11T13:51': 43659, '2016-07-11T13:52': 48611, '2016-07-11T13:53': 42742, '2016-07-11T13:54': 51930, '2016-07-11T13:55': 45471, '2016-07-11T13:56': 138}\n",
      "Consumer error: KafkaError{code=_PARTITION_EOF,val=-191,str=\"Broker: No more messages\"}\n",
      "Message is None 1000000\n",
      "{'2016-07-11T13:39': 16193, '2016-07-11T13:40': 41130, '2016-07-11T13:41': 47369, '2016-07-11T13:42': 49488, '2016-07-11T13:43': 47863, '2016-07-11T13:44': 40439, '2016-07-11T13:45': 42859, '2016-07-11T13:46': 47312, '2016-07-11T13:47': 48180, '2016-07-11T13:48': 47981, '2016-07-11T13:49': 42194, '2016-07-11T13:50': 45070, '2016-07-11T13:51': 43659, '2016-07-11T13:52': 48611, '2016-07-11T13:53': 42742, '2016-07-11T13:54': 51930, '2016-07-11T13:55': 45471, '2016-07-11T13:56': 138}\n",
      "Consumer error: KafkaError{code=_PARTITION_EOF,val=-191,str=\"Broker: No more messages\"}\n",
      "Message is None 1000000\n",
      "{'2016-07-11T13:39': 16193, '2016-07-11T13:40': 41130, '2016-07-11T13:41': 47369, '2016-07-11T13:42': 49488, '2016-07-11T13:43': 47863, '2016-07-11T13:44': 40439, '2016-07-11T13:45': 42859, '2016-07-11T13:46': 47312, '2016-07-11T13:47': 48180, '2016-07-11T13:48': 47981, '2016-07-11T13:49': 42194, '2016-07-11T13:50': 45070, '2016-07-11T13:51': 43659, '2016-07-11T13:52': 48611, '2016-07-11T13:53': 42742, '2016-07-11T13:54': 51930, '2016-07-11T13:55': 45471, '2016-07-11T13:56': 138}\n",
      "Consumer error: KafkaError{code=_PARTITION_EOF,val=-191,str=\"Broker: No more messages\"}\n",
      "Message is None 1000000\n",
      "{'2016-07-11T13:39': 16193, '2016-07-11T13:40': 41130, '2016-07-11T13:41': 47369, '2016-07-11T13:42': 49488, '2016-07-11T13:43': 47863, '2016-07-11T13:44': 40439, '2016-07-11T13:45': 42859, '2016-07-11T13:46': 47312, '2016-07-11T13:47': 48180, '2016-07-11T13:48': 47981, '2016-07-11T13:49': 42194, '2016-07-11T13:50': 45070, '2016-07-11T13:51': 43659, '2016-07-11T13:52': 48611, '2016-07-11T13:53': 42742, '2016-07-11T13:54': 51930, '2016-07-11T13:55': 45471, '2016-07-11T13:56': 138}\n",
      "244.3195378119999  seconds\n"
     ]
    }
   ],
   "source": [
    "setup = \"from __main__ import read_messages_and_count_users\"\n",
    "final_time = timeit.timeit('read_messages_and_count_users(\\'in\\', \\'outkp\\')', \n",
    "                                                   setup=setup, number=10) "
   ]
  },
  {
   "cell_type": "code",
   "execution_count": 15,
   "metadata": {},
   "outputs": [
    {
     "name": "stdout",
     "output_type": "stream",
     "text": [
      "The average execution time is 24.43195378119999 seconds\n"
     ]
    }
   ],
   "source": [
    "print('The average execution time is', final_time/10, 'seconds')"
   ]
  }
 ],
 "metadata": {
  "kernelspec": {
   "display_name": "Python 3",
   "language": "python",
   "name": "python3"
  },
  "language_info": {
   "codemirror_mode": {
    "name": "ipython",
    "version": 3
   },
   "file_extension": ".py",
   "mimetype": "text/x-python",
   "name": "python",
   "nbconvert_exporter": "python",
   "pygments_lexer": "ipython3",
   "version": "3.6.8"
  },
  "varInspector": {
   "cols": {
    "lenName": 16.0,
    "lenType": 16.0,
    "lenVar": 40.0
   },
   "kernels_config": {
    "python": {
     "delete_cmd_postfix": "",
     "delete_cmd_prefix": "del ",
     "library": "var_list.py",
     "varRefreshCmd": "print(var_dic_list())"
    },
    "r": {
     "delete_cmd_postfix": ") ",
     "delete_cmd_prefix": "rm(",
     "library": "var_list.r",
     "varRefreshCmd": "cat(var_dic_list()) "
    }
   },
   "position": {
    "height": "264.716px",
    "left": "1401.28px",
    "right": "20px",
    "top": "120px",
    "width": "324.176px"
   },
   "types_to_exclude": [
    "module",
    "function",
    "builtin_function_or_method",
    "instance",
    "_Feature"
   ],
   "window_display": true
  }
 },
 "nbformat": 4,
 "nbformat_minor": 2
}
